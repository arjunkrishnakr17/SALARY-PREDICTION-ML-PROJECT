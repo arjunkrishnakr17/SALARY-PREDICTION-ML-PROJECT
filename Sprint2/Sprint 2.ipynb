{
  "cells": [
    {
      "cell_type": "markdown",
      "metadata": {
        "id": "9bwFsQOvfW_6"
      },
      "source": [
        "# MODEL BUILDING"
      ]
    },
    {
      "cell_type": "markdown",
      "metadata": {
        "id": "y1mB2fCLfoi3"
      },
      "source": [
        "Splitting the dataset into 80 to 20 ratio\n",
        "\n",
        ">\n",
        "\n",
        "80% contains training dataset and cross validation dataset\n",
        "\n",
        ">\n",
        "\n",
        "20% contains testing dataset\n",
        "\n",
        "\n"
      ]
    },
    {
      "cell_type": "code",
      "execution_count": null,
      "metadata": {
        "id": "SEZscQ_XfmNC"
      },
      "outputs": [],
      "source": [
        "from sklearn.model_selection import train_test_split\n",
        "x_train, x_, y_train, y_ = train_test_split(new_data.drop(columns = ['Salary']), new_data['Salary'], test_size = 0.40, random_state = 1)\n",
        "x_cv, x_test, y_cv, y_test = train_test_split(x_, y_, test_size = 0.50, random_state = 1)"
      ]
    },
    {
      "cell_type": "code",
      "execution_count": null,
      "metadata": {
        "colab": {
          "base_uri": "https://localhost:8080/",
          "height": 275
        },
        "id": "XuB6hW6IgxTR",
        "outputId": "c25f2623-b5cb-4f4a-cbe7-9b9897e5dd62"
      },
      "outputs": [
        {
          "name": "stdout",
          "output_type": "stream",
          "text": [
            "x_train (223, 8) y_train (223,)\n",
            "x_cv (75, 8) y_cv (75,)\n",
            "x_test (75, 8) y_test (75,)\n"
          ]
        },
        {
          "data": {
            "text/html": [
              "\n",
              "  <div id=\"df-16af2aec-7b3e-4f8a-ae57-a9b15f5dc7e8\" class=\"colab-df-container\">\n",
              "    <div>\n",
              "<style scoped>\n",
              "    .dataframe tbody tr th:only-of-type {\n",
              "        vertical-align: middle;\n",
              "    }\n",
              "\n",
              "    .dataframe tbody tr th {\n",
              "        vertical-align: top;\n",
              "    }\n",
              "\n",
              "    .dataframe thead th {\n",
              "        text-align: right;\n",
              "    }\n",
              "</style>\n",
              "<table border=\"1\" class=\"dataframe\">\n",
              "  <thead>\n",
              "    <tr style=\"text-align: right;\">\n",
              "      <th></th>\n",
              "      <th>Age</th>\n",
              "      <th>Job Title</th>\n",
              "      <th>Years of Experience</th>\n",
              "      <th>Female</th>\n",
              "      <th>Male</th>\n",
              "      <th>Bachelor's</th>\n",
              "      <th>Master's</th>\n",
              "      <th>PhD</th>\n",
              "    </tr>\n",
              "  </thead>\n",
              "  <tbody>\n",
              "    <tr>\n",
              "      <th>147</th>\n",
              "      <td>0.266667</td>\n",
              "      <td>0.404624</td>\n",
              "      <td>0.16</td>\n",
              "      <td>0</td>\n",
              "      <td>1</td>\n",
              "      <td>1</td>\n",
              "      <td>0</td>\n",
              "      <td>0</td>\n",
              "    </tr>\n",
              "    <tr>\n",
              "      <th>175</th>\n",
              "      <td>0.400000</td>\n",
              "      <td>0.786127</td>\n",
              "      <td>0.28</td>\n",
              "      <td>0</td>\n",
              "      <td>1</td>\n",
              "      <td>1</td>\n",
              "      <td>0</td>\n",
              "      <td>0</td>\n",
              "    </tr>\n",
              "    <tr>\n",
              "      <th>100</th>\n",
              "      <td>0.266667</td>\n",
              "      <td>0.196532</td>\n",
              "      <td>0.20</td>\n",
              "      <td>1</td>\n",
              "      <td>0</td>\n",
              "      <td>1</td>\n",
              "      <td>0</td>\n",
              "      <td>0</td>\n",
              "    </tr>\n",
              "    <tr>\n",
              "      <th>34</th>\n",
              "      <td>0.766667</td>\n",
              "      <td>0.751445</td>\n",
              "      <td>0.80</td>\n",
              "      <td>0</td>\n",
              "      <td>1</td>\n",
              "      <td>0</td>\n",
              "      <td>0</td>\n",
              "      <td>1</td>\n",
              "    </tr>\n",
              "    <tr>\n",
              "      <th>110</th>\n",
              "      <td>0.633333</td>\n",
              "      <td>0.693642</td>\n",
              "      <td>0.60</td>\n",
              "      <td>1</td>\n",
              "      <td>0</td>\n",
              "      <td>0</td>\n",
              "      <td>1</td>\n",
              "      <td>0</td>\n",
              "    </tr>\n",
              "  </tbody>\n",
              "</table>\n",
              "</div>\n",
              "    <div class=\"colab-df-buttons\">\n",
              "\n",
              "  <div class=\"colab-df-container\">\n",
              "    <button class=\"colab-df-convert\" onclick=\"convertToInteractive('df-16af2aec-7b3e-4f8a-ae57-a9b15f5dc7e8')\"\n",
              "            title=\"Convert this dataframe to an interactive table.\"\n",
              "            style=\"display:none;\">\n",
              "\n",
              "  <svg xmlns=\"http://www.w3.org/2000/svg\" height=\"24px\" viewBox=\"0 -960 960 960\">\n",
              "    <path d=\"M120-120v-720h720v720H120Zm60-500h600v-160H180v160Zm220 220h160v-160H400v160Zm0 220h160v-160H400v160ZM180-400h160v-160H180v160Zm440 0h160v-160H620v160ZM180-180h160v-160H180v160Zm440 0h160v-160H620v160Z\"/>\n",
              "  </svg>\n",
              "    </button>\n",
              "\n",
              "  <style>\n",
              "    .colab-df-container {\n",
              "      display:flex;\n",
              "      gap: 12px;\n",
              "    }\n",
              "\n",
              "    .colab-df-convert {\n",
              "      background-color: #E8F0FE;\n",
              "      border: none;\n",
              "      border-radius: 50%;\n",
              "      cursor: pointer;\n",
              "      display: none;\n",
              "      fill: #1967D2;\n",
              "      height: 32px;\n",
              "      padding: 0 0 0 0;\n",
              "      width: 32px;\n",
              "    }\n",
              "\n",
              "    .colab-df-convert:hover {\n",
              "      background-color: #E2EBFA;\n",
              "      box-shadow: 0px 1px 2px rgba(60, 64, 67, 0.3), 0px 1px 3px 1px rgba(60, 64, 67, 0.15);\n",
              "      fill: #174EA6;\n",
              "    }\n",
              "\n",
              "    .colab-df-buttons div {\n",
              "      margin-bottom: 4px;\n",
              "    }\n",
              "\n",
              "    [theme=dark] .colab-df-convert {\n",
              "      background-color: #3B4455;\n",
              "      fill: #D2E3FC;\n",
              "    }\n",
              "\n",
              "    [theme=dark] .colab-df-convert:hover {\n",
              "      background-color: #434B5C;\n",
              "      box-shadow: 0px 1px 3px 1px rgba(0, 0, 0, 0.15);\n",
              "      filter: drop-shadow(0px 1px 2px rgba(0, 0, 0, 0.3));\n",
              "      fill: #FFFFFF;\n",
              "    }\n",
              "  </style>\n",
              "\n",
              "    <script>\n",
              "      const buttonEl =\n",
              "        document.querySelector('#df-16af2aec-7b3e-4f8a-ae57-a9b15f5dc7e8 button.colab-df-convert');\n",
              "      buttonEl.style.display =\n",
              "        google.colab.kernel.accessAllowed ? 'block' : 'none';\n",
              "\n",
              "      async function convertToInteractive(key) {\n",
              "        const element = document.querySelector('#df-16af2aec-7b3e-4f8a-ae57-a9b15f5dc7e8');\n",
              "        const dataTable =\n",
              "          await google.colab.kernel.invokeFunction('convertToInteractive',\n",
              "                                                    [key], {});\n",
              "        if (!dataTable) return;\n",
              "\n",
              "        const docLinkHtml = 'Like what you see? Visit the ' +\n",
              "          '<a target=\"_blank\" href=https://colab.research.google.com/notebooks/data_table.ipynb>data table notebook</a>'\n",
              "          + ' to learn more about interactive tables.';\n",
              "        element.innerHTML = '';\n",
              "        dataTable['output_type'] = 'display_data';\n",
              "        await google.colab.output.renderOutput(dataTable, element);\n",
              "        const docLink = document.createElement('div');\n",
              "        docLink.innerHTML = docLinkHtml;\n",
              "        element.appendChild(docLink);\n",
              "      }\n",
              "    </script>\n",
              "  </div>\n",
              "\n",
              "\n",
              "<div id=\"df-bf52bafb-7eec-4ccb-a8a7-e710ffda8d6c\">\n",
              "  <button class=\"colab-df-quickchart\" onclick=\"quickchart('df-bf52bafb-7eec-4ccb-a8a7-e710ffda8d6c')\"\n",
              "            title=\"Suggest charts.\"\n",
              "            style=\"display:none;\">\n",
              "\n",
              "<svg xmlns=\"http://www.w3.org/2000/svg\" height=\"24px\"viewBox=\"0 0 24 24\"\n",
              "     width=\"24px\">\n",
              "    <g>\n",
              "        <path d=\"M19 3H5c-1.1 0-2 .9-2 2v14c0 1.1.9 2 2 2h14c1.1 0 2-.9 2-2V5c0-1.1-.9-2-2-2zM9 17H7v-7h2v7zm4 0h-2V7h2v10zm4 0h-2v-4h2v4z\"/>\n",
              "    </g>\n",
              "</svg>\n",
              "  </button>\n",
              "\n",
              "<style>\n",
              "  .colab-df-quickchart {\n",
              "      --bg-color: #E8F0FE;\n",
              "      --fill-color: #1967D2;\n",
              "      --hover-bg-color: #E2EBFA;\n",
              "      --hover-fill-color: #174EA6;\n",
              "      --disabled-fill-color: #AAA;\n",
              "      --disabled-bg-color: #DDD;\n",
              "  }\n",
              "\n",
              "  [theme=dark] .colab-df-quickchart {\n",
              "      --bg-color: #3B4455;\n",
              "      --fill-color: #D2E3FC;\n",
              "      --hover-bg-color: #434B5C;\n",
              "      --hover-fill-color: #FFFFFF;\n",
              "      --disabled-bg-color: #3B4455;\n",
              "      --disabled-fill-color: #666;\n",
              "  }\n",
              "\n",
              "  .colab-df-quickchart {\n",
              "    background-color: var(--bg-color);\n",
              "    border: none;\n",
              "    border-radius: 50%;\n",
              "    cursor: pointer;\n",
              "    display: none;\n",
              "    fill: var(--fill-color);\n",
              "    height: 32px;\n",
              "    padding: 0;\n",
              "    width: 32px;\n",
              "  }\n",
              "\n",
              "  .colab-df-quickchart:hover {\n",
              "    background-color: var(--hover-bg-color);\n",
              "    box-shadow: 0 1px 2px rgba(60, 64, 67, 0.3), 0 1px 3px 1px rgba(60, 64, 67, 0.15);\n",
              "    fill: var(--button-hover-fill-color);\n",
              "  }\n",
              "\n",
              "  .colab-df-quickchart-complete:disabled,\n",
              "  .colab-df-quickchart-complete:disabled:hover {\n",
              "    background-color: var(--disabled-bg-color);\n",
              "    fill: var(--disabled-fill-color);\n",
              "    box-shadow: none;\n",
              "  }\n",
              "\n",
              "  .colab-df-spinner {\n",
              "    border: 2px solid var(--fill-color);\n",
              "    border-color: transparent;\n",
              "    border-bottom-color: var(--fill-color);\n",
              "    animation:\n",
              "      spin 1s steps(1) infinite;\n",
              "  }\n",
              "\n",
              "  @keyframes spin {\n",
              "    0% {\n",
              "      border-color: transparent;\n",
              "      border-bottom-color: var(--fill-color);\n",
              "      border-left-color: var(--fill-color);\n",
              "    }\n",
              "    20% {\n",
              "      border-color: transparent;\n",
              "      border-left-color: var(--fill-color);\n",
              "      border-top-color: var(--fill-color);\n",
              "    }\n",
              "    30% {\n",
              "      border-color: transparent;\n",
              "      border-left-color: var(--fill-color);\n",
              "      border-top-color: var(--fill-color);\n",
              "      border-right-color: var(--fill-color);\n",
              "    }\n",
              "    40% {\n",
              "      border-color: transparent;\n",
              "      border-right-color: var(--fill-color);\n",
              "      border-top-color: var(--fill-color);\n",
              "    }\n",
              "    60% {\n",
              "      border-color: transparent;\n",
              "      border-right-color: var(--fill-color);\n",
              "    }\n",
              "    80% {\n",
              "      border-color: transparent;\n",
              "      border-right-color: var(--fill-color);\n",
              "      border-bottom-color: var(--fill-color);\n",
              "    }\n",
              "    90% {\n",
              "      border-color: transparent;\n",
              "      border-bottom-color: var(--fill-color);\n",
              "    }\n",
              "  }\n",
              "</style>\n",
              "\n",
              "  <script>\n",
              "    async function quickchart(key) {\n",
              "      const quickchartButtonEl =\n",
              "        document.querySelector('#' + key + ' button');\n",
              "      quickchartButtonEl.disabled = true;  // To prevent multiple clicks.\n",
              "      quickchartButtonEl.classList.add('colab-df-spinner');\n",
              "      try {\n",
              "        const charts = await google.colab.kernel.invokeFunction(\n",
              "            'suggestCharts', [key], {});\n",
              "      } catch (error) {\n",
              "        console.error('Error during call to suggestCharts:', error);\n",
              "      }\n",
              "      quickchartButtonEl.classList.remove('colab-df-spinner');\n",
              "      quickchartButtonEl.classList.add('colab-df-quickchart-complete');\n",
              "    }\n",
              "    (() => {\n",
              "      let quickchartButtonEl =\n",
              "        document.querySelector('#df-bf52bafb-7eec-4ccb-a8a7-e710ffda8d6c button');\n",
              "      quickchartButtonEl.style.display =\n",
              "        google.colab.kernel.accessAllowed ? 'block' : 'none';\n",
              "    })();\n",
              "  </script>\n",
              "</div>\n",
              "    </div>\n",
              "  </div>\n"
            ],
            "text/plain": [
              "          Age  Job Title  Years of Experience  Female  Male  Bachelor's  \\\n",
              "147  0.266667   0.404624                 0.16       0     1           1   \n",
              "175  0.400000   0.786127                 0.28       0     1           1   \n",
              "100  0.266667   0.196532                 0.20       1     0           1   \n",
              "34   0.766667   0.751445                 0.80       0     1           0   \n",
              "110  0.633333   0.693642                 0.60       1     0           0   \n",
              "\n",
              "     Master's  PhD  \n",
              "147         0    0  \n",
              "175         0    0  \n",
              "100         0    0  \n",
              "34          0    1  \n",
              "110         1    0  "
            ]
          },
          "execution_count": 73,
          "metadata": {},
          "output_type": "execute_result"
        }
      ],
      "source": [
        "print('x_train', x_train.shape, 'y_train', y_train.shape)\n",
        "print('x_cv', x_cv.shape, 'y_cv', y_cv.shape)\n",
        "print('x_test', x_test.shape, 'y_test', y_test.shape)\n",
        "x_train.head()"
      ]
    },
    {
      "cell_type": "markdown",
      "metadata": {
        "id": "JOxVo40WhI7U"
      },
      "source": [
        "# **TRAINING THE MODEL USING LINEAR REGRESSION**"
      ]
    },
    {
      "cell_type": "code",
      "execution_count": null,
      "metadata": {
        "id": "kfBRd9NDhYmL"
      },
      "outputs": [],
      "source": [
        "from sklearn.linear_model import LinearRegression\n",
        "from sklearn.preprocessing import PolynomialFeatures\n",
        "from sklearn.metrics import mean_squared_error\n",
        "from sklearn.metrics import r2_score"
      ]
    },
    {
      "cell_type": "code",
      "execution_count": null,
      "metadata": {
        "id": "Bu3Zh21DhsdT"
      },
      "outputs": [],
      "source": [
        "models = []\n",
        "scalers = []\n",
        "train_mses = []\n",
        "cv_mses = []\n",
        "train_r2s = []\n",
        "cv_r2s = []\n",
        "\n",
        "degree = [1, 2, 3, 4, 5, 6, 7, 8, 9, 10]\n",
        "for n in degree:\n",
        "    poly = PolynomialFeatures(degree = n, include_bias = False)\n",
        "    x_train_poly = poly.fit_transform(x_train)\n",
        "    model = LinearRegression()\n",
        "    model.fit(x_train_poly, y_train)\n",
        "    models.append(model)\n",
        "    train_prediction = model.predict(x_train_poly)\n",
        "    train_mse = mean_squared_error(y_train, train_prediction)\n",
        "    train_mses.append(train_mse)\n",
        "    train_r2 = r2_score(y_train, train_prediction)\n",
        "    train_r2s.append(train_r2)\n",
        "    \"\"\"\n",
        "    cross validation is done for tuning the hyperparameters\n",
        "    \"\"\"\n",
        "    poly = PolynomialFeatures(degree = n, include_bias = False)\n",
        "    x_cv_poly = poly.fit_transform(x_cv)\n",
        "    cv_prediction = model.predict(x_cv_poly)\n",
        "    cv_mse = mean_squared_error(y_cv, cv_prediction)\n",
        "    cv_mses.append(cv_mse)\n",
        "    cv_r2 = r2_score(y_cv, cv_prediction)\n",
        "    cv_r2s.append(cv_r2)"
      ]
    },
    {
      "cell_type": "code",
      "execution_count": null,
      "metadata": {
        "colab": {
          "base_uri": "https://localhost:8080/"
        },
        "id": "kvUuCZQEmwQ7",
        "outputId": "2c273d98-f4a7-4e09-ea54-a235ffdd8b79"
      },
      "outputs": [
        {
          "name": "stdout",
          "output_type": "stream",
          "text": [
            "Lowest CV_MSE at degree = 1\n"
          ]
        }
      ],
      "source": [
        "cv_degree = np.argmin(cv_mses) + 1\n",
        "print(f'Lowest CV_MSE at degree = {cv_degree}')"
      ]
    },
    {
      "cell_type": "code",
      "execution_count": null,
      "metadata": {
        "colab": {
          "base_uri": "https://localhost:8080/"
        },
        "id": "Kk-v9TFgm2Gw",
        "outputId": "60516121-0ad9-43f7-ceab-2a1b53681478"
      },
      "outputs": [
        {
          "name": "stdout",
          "output_type": "stream",
          "text": [
            "w = [ 0.29562131  0.03797673  0.34695928 -0.01773835  0.01773835 -0.04971684\n",
            "  0.02081098  0.02890586], b = 0.12452294120188379\n"
          ]
        }
      ],
      "source": [
        "print(f'w = {models[0].coef_}, b = {models[0].intercept_}')"
      ]
    },
    {
      "cell_type": "markdown",
      "metadata": {
        "id": "NBSeyI2qnCm1"
      },
      "source": [
        "# TESTING THE MODEL"
      ]
    },
    {
      "cell_type": "code",
      "execution_count": null,
      "metadata": {
        "id": "MOBVIUTrnIA1"
      },
      "outputs": [],
      "source": [
        "poly = PolynomialFeatures(degree = cv_degree, include_bias = False)\n",
        "x_test_poly = poly.fit_transform(x_test)\n",
        "test_prediction = models[0].predict(x_test_poly)\n",
        "test_mse = mean_squared_error(y_test, test_prediction)\n",
        "test_r2 = r2_score(y_test, test_prediction)"
      ]
    },
    {
      "cell_type": "code",
      "execution_count": null,
      "metadata": {
        "colab": {
          "base_uri": "https://localhost:8080/"
        },
        "id": "-WLvAusyn9ED",
        "outputId": "9b22972e-782a-47d3-c09a-11b8fcedf46a"
      },
      "outputs": [
        {
          "name": "stdout",
          "output_type": "stream",
          "text": [
            "Train_MSE = 0.003678826070399384\n",
            "CV_MSE = 0.003173697630459123\n",
            "Test_MSE = 0.003954909682951694\n"
          ]
        }
      ],
      "source": [
        "print(f'Train_MSE = {train_mses[0]}')\n",
        "print(f'CV_MSE = {cv_mses[0]}')\n",
        "print(f'Test_MSE = {test_mse}')"
      ]
    },
    {
      "cell_type": "code",
      "execution_count": null,
      "metadata": {
        "colab": {
          "base_uri": "https://localhost:8080/"
        },
        "id": "CVTrpcD5pHAK",
        "outputId": "e72d5a0e-e9c5-4f73-9951-ddfb98a88c39"
      },
      "outputs": [
        {
          "name": "stdout",
          "output_type": "stream",
          "text": [
            "Train_R2 = 0.9004794596095044\n",
            "CV_R2 = 0.9155296217707212\n",
            "Test_R2 = 0.8906395073997119\n"
          ]
        }
      ],
      "source": [
        "from sklearn.metrics import r2_score\n",
        "print(f'Train_R2 = {train_r2s[0]}')\n",
        "print(f'CV_R2 = {cv_r2s[0]}')\n",
        "print(f'Test_R2 = {test_r2}')"
      ]
    },
    {
      "cell_type": "code",
      "execution_count": null,
      "metadata": {
        "colab": {
          "base_uri": "https://localhost:8080/"
        },
        "id": "Oxl6zlTUpKZ1",
        "outputId": "4e9a770d-127b-42a5-8cef-f79d2f6d170e"
      },
      "outputs": [
        {
          "name": "stdout",
          "output_type": "stream",
          "text": [
            "[0.23333333333333334, 0.005780346820809248, 0.16]\n",
            "[0.23333333333333334, 0.005780346820809248, 0.16, 0, 1, 1, 1, 0]\n"
          ]
        }
      ],
      "source": [
        "input_data=[30,1,4,0,1,1,1,0]\n",
        "max_data=[age_max,job_title_max,years_of_experience_max]\n",
        "min_data=[age_min,job_title_min,years_of_experience_min]\n",
        "new_input=input_data[:3]\n",
        "res_input=[]\n",
        "for i in range(len(new_input)):\n",
        "  res_input.append((new_input[i]-min_data[i])/(max_data[i]-min_data[i]))\n",
        "print(res_input)\n",
        "\n",
        "res_input+=input_data[3:]\n",
        "print(res_input)\n",
        "res_input= np.array(res_input)"
      ]
    },
    {
      "cell_type": "code",
      "execution_count": null,
      "metadata": {
        "colab": {
          "base_uri": "https://localhost:8080/"
        },
        "id": "xS09M_Us1wBD",
        "outputId": "0e8edb54-f81e-4c74-a6da-6df0cec9b723"
      },
      "outputs": [
        {
          "name": "stdout",
          "output_type": "stream",
          "text": [
            "Number of features in training data: 8\n",
            "Number of features in new input data: 8\n",
            "[0.23806674]\n",
            "[59783.36244882]\n"
          ]
        }
      ],
      "source": [
        "print(\"Number of features in training data:\", x_train.shape[1])\n",
        "print(\"Number of features in new input data:\", res_input.shape[0])\n",
        "\n",
        "predictions=models[0].predict([res_input])\n",
        "print(predictions)\n",
        "predictions=(predictions*(salary_max-salary_min))+salary_min\n",
        "print(predictions)"
      ]
    },
    {
      "cell_type": "code",
      "execution_count": null,
      "metadata": {
        "colab": {
          "base_uri": "https://localhost:8080/"
        },
        "id": "h-QbGLStwQyF",
        "outputId": "b55e46d8-32c3-4af7-8bd5-9c3fe7c04aa6"
      },
      "outputs": [
        {
          "data": {
            "text/plain": [
              "['salary_prediction.pkl']"
            ]
          },
          "execution_count": 83,
          "metadata": {},
          "output_type": "execute_result"
        }
      ],
      "source": [
        "import joblib\n",
        "model=models[0]\n",
        "joblib.dump(model, 'salary_prediction.pkl')"
      ]
    },
    {
      "cell_type": "code",
      "execution_count": null,
      "metadata": {
        "colab": {
          "base_uri": "https://localhost:8080/",
          "height": 17
        },
        "id": "SndkhB6GxcXe",
        "outputId": "d4704991-bc64-4372-c534-8214b6d3705b"
      },
      "outputs": [
        {
          "data": {
            "application/javascript": "\n    async function download(id, filename, size) {\n      if (!google.colab.kernel.accessAllowed) {\n        return;\n      }\n      const div = document.createElement('div');\n      const label = document.createElement('label');\n      label.textContent = `Downloading \"${filename}\": `;\n      div.appendChild(label);\n      const progress = document.createElement('progress');\n      progress.max = size;\n      div.appendChild(progress);\n      document.body.appendChild(div);\n\n      const buffers = [];\n      let downloaded = 0;\n\n      const channel = await google.colab.kernel.comms.open(id);\n      // Send a message to notify the kernel that we're ready.\n      channel.send({})\n\n      for await (const message of channel.messages) {\n        // Send a message to notify the kernel that we're ready.\n        channel.send({})\n        if (message.buffers) {\n          for (const buffer of message.buffers) {\n            buffers.push(buffer);\n            downloaded += buffer.byteLength;\n            progress.value = downloaded;\n          }\n        }\n      }\n      const blob = new Blob(buffers, {type: 'application/binary'});\n      const a = document.createElement('a');\n      a.href = window.URL.createObjectURL(blob);\n      a.download = filename;\n      div.appendChild(a);\n      a.click();\n      div.remove();\n    }\n  ",
            "text/plain": [
              "<IPython.core.display.Javascript object>"
            ]
          },
          "metadata": {},
          "output_type": "display_data"
        },
        {
          "data": {
            "application/javascript": "download(\"download_52531ba2-6a49-4984-a7d9-204e2dbee98d\", \"salary_prediction.pkl\", 664)",
            "text/plain": [
              "<IPython.core.display.Javascript object>"
            ]
          },
          "metadata": {},
          "output_type": "display_data"
        }
      ],
      "source": [
        "from google.colab import files\n",
        "files.download(\"salary_prediction.pkl\")"
      ]
    },
    {
      "cell_type": "code",
      "execution_count": null,
      "metadata": {
        "colab": {
          "base_uri": "https://localhost:8080/"
        },
        "id": "kNpzCPnDxrnl",
        "outputId": "10d3aac0-13ff-4768-a38f-15ed42768174"
      },
      "outputs": [
        {
          "name": "stdout",
          "output_type": "stream",
          "text": [
            "17\n"
          ]
        }
      ],
      "source": [
        "res=label_encoder.transform([\"Data Analyst\"])[0]\n",
        "print(res)"
      ]
    }
  ],
  "metadata": {
    "colab": {
      "provenance": []
    },
    "kernelspec": {
      "display_name": "Python 3",
      "name": "python3"
    },
    "language_info": {
      "name": "python"
    }
  },
  "nbformat": 4,
  "nbformat_minor": 0
}
